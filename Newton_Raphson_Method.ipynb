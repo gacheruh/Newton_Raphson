{
  "nbformat": 4,
  "nbformat_minor": 0,
  "metadata": {
    "colab": {
      "provenance": []
    },
    "kernelspec": {
      "name": "python3",
      "display_name": "Python 3"
    },
    "language_info": {
      "name": "python"
    }
  },
  "cells": [
    {
      "cell_type": "markdown",
      "source": [
        "# **DERRICK GACHERU**\n",
        "# **SCT211-0004/2021**\n",
        "## **TITLE: Application of Newton-Raphson Method in Finding Roots of Equations**\n",
        "\n",
        "### **INTRODUCTION**\n",
        "\n",
        "The Newton-Raphson method is a powerful numerical technique used for finding successively better approximations to the roots of a real-valued function. Named after Sir Isaac Newton and Joseph Raphson, this iterative algorithm is widely applied in various fields of science and engineering due to its efficiency and rapid convergence rate.\n",
        "\n",
        "In this report, we explore the principles, mathematical foundation, implementation, and applications of the Newton-Raphson method. We delve into the theoretical background of the method, discussing its formula, convergence criteria, and potential limitations. Additionally, we demonstrate the practical utility of the method through numerical examples and real-world problems.\n",
        "\n",
        "The report aims to provide a comprehensive understanding of the Newton-Raphson method, equipping readers with the knowledge and skills necessary to apply this technique in solving nonlinear equations, optimization problems, and other numerical tasks. Through clear explanations, illustrative examples, and practical insights, readers will gain insight into the inner workings of the Newton-Raphson method and its significance in numerical analysis.\n",
        "\n",
        "### **THEORY**\n",
        "\n",
        "The Newton-Raphson method, also known as the Newton method, is an iterative numerical technique used to find the roots of a real-valued function. It is based on the idea of linear approximation and employs calculus principles to converge towards the roots of the function. Here, we discuss the mathematical foundation of the Newton-Raphson method, including its formula, convergence criteria, and potential limitations.\n",
        "\n",
        "#### **Formula**:\n",
        "The Newton-Raphson method iteratively refines an initial guess $(x_0)$\n",
        "  to approximate a root of the function $f(x)$. The iterative formula for the $n+1$-th approximation $x_{n+1}$ is given by:\n",
        "  $$ x_{n+1} = x_n - \\frac{f(x_n)}{f'(x_n)} $$\n",
        "\n",
        "where:\n",
        "\n",
        "\n",
        "*   $x_{n}$   is the $n$-th approximation of the root,\n",
        "*   $f(x_n)$ is the function value at $x_{n}$ and,\n",
        "\n",
        "*   $f'(x_n)$ is the derivative of the function evaluated at $x_{n}$\n",
        "\n",
        "\n",
        "Here's a brief overview of how the Newton-Raphson method works:\n",
        "\n",
        "1. Start with an initial guess $(x_0)$ for the root of the function.\n",
        "2. Compute the value of the function $f(x_0)$ and its derivative $f'(x_0)$ at the initial guess.\n",
        "3. Use the formula to find a better approximation $(x_1)$ for the root:\n",
        "$$ x_{n+1} = x_n - \\frac{f(x_n)}{f'(x_n)} $$\n",
        "4. Repeat steps 2 and 3 with the new approximation $(x_1)$ until the desired level of accuracy is achieved or until convergence criteria are met.\n",
        "\n",
        "\n",
        "#### **Convergence Criteria:**\n",
        "The Newton-Raphson method converges to a root of the function when the initial guess $x_0$ is sufficiently close to the actual root and the function $f(x)$ is continuous and differentiable in the neighborhood of the root. Convergence criteria include:\n",
        "\n",
        "1. **Local Convergence:** The method converges quadratically (i.e., the number of correct digits approximately doubles with each iteration) if the initial guess is sufficiently close to the root and the function has a simple root.\n",
        "\n",
        "2. **Global Convergence:** Convergence is guaranteed if the initial guess is in a region where the function is strictly concave or convex and the derivative does not vanish.\n",
        "\n",
        "#### **Potential Limitations:**\n",
        "While the Newton-Raphson method is a powerful tool for root-finding, it has certain limitations:\n",
        "\n",
        "1. **Sensitivity to Initial Guess:** The method may fail to converge or converge to a different root if the initial guess is far from the actual root or lies on a critical point (where the derivative vanishes).\n",
        "2. **Derivative Evaluation:** Computing the derivative of the function may be computationally expensive or numerically unstable, especially for complex functions or functions with discontinuities.\n",
        "3. **Local Convergence:** The method may converge to a local minimum or maximum if the initial guess is near a critical point, rather than the desired root.\n",
        "\n",
        "In summary, the Newton-Raphson method provides an efficient and effective means of approximating roots of real-valued functions, but careful consideration of the initial guess, function properties, and convergence criteria is essential to ensure accurate and reliable results.\n",
        "\n",
        "### **IMPLEMENTATION IN PYTHON**\n",
        "\n",
        "Below is the Python implementation of the Newton-Raphson method to solve a specific equation:\n",
        "\n"
      ],
      "metadata": {
        "id": "CoQ6jn4LiNMb"
      }
    },
    {
      "cell_type": "code",
      "source": [
        "def newton_raphson(func, func_derivative, x0, tol=1e-6, max_iter=100):\n",
        "    \"\"\"\n",
        "    Newton-Raphson method for finding a root of a function.\n",
        "\n",
        "    Parameters:\n",
        "        func : function\n",
        "            The function for which to find the root.\n",
        "        func_derivative : function\n",
        "            The derivative of the function.\n",
        "        x0 : float\n",
        "            Initial guess for the root.\n",
        "        tol : float, optional\n",
        "            Tolerance (stopping criterion) for the root. Default is 1e-6.\n",
        "        max_iter : int, optional\n",
        "            Maximum number of iterations. Default is 100.\n",
        "\n",
        "    Returns:\n",
        "        x : float\n",
        "            Approximation of the root.\n",
        "        num_iter : int\n",
        "            Number of iterations performed.\n",
        "    \"\"\"\n",
        "    x = x0\n",
        "    num_iter = 0\n",
        "    while abs(func(x)) > tol and num_iter < max_iter:\n",
        "        x -= func(x) / func_derivative(x)\n",
        "        num_iter += 1\n",
        "    return x, num_iter\n",
        "\n",
        "# Example usage:\n",
        "def f(x):\n",
        "    return x**2 - 2\n",
        "\n",
        "def f_prime(x):\n",
        "    return 2*x\n",
        "\n",
        "root, num_iterations = newton_raphson(f, f_prime, 1.5)\n",
        "print(\"Root:\", root)\n",
        "print(\"Number of iterations:\", num_iterations)\n"
      ],
      "metadata": {
        "colab": {
          "base_uri": "https://localhost:8080/",
          "height": 0
        },
        "id": "ZASieincrnOA",
        "outputId": "7f3791b3-891a-4e31-8d8f-11bb2ee34312"
      },
      "execution_count": 1,
      "outputs": [
        {
          "output_type": "stream",
          "name": "stdout",
          "text": [
            "Root: 1.4142135623746899\n",
            "Number of iterations: 3\n"
          ]
        }
      ]
    },
    {
      "cell_type": "markdown",
      "source": [
        "### ***Explanation***\n",
        "\n",
        "1. **Function Definition**:\n",
        "    - The `newton_raphson` function takes four arguments: `func`, the function for which to find the root; `func_derivative`, the derivative of the function; `x0`, the initial guess for the root; `tol`, the tolerance for the root (defaults to $10^{-6}$); `max_iter`, the maximum number of iterations (defaults to 100).\n",
        "2. **Newton-Raphson Method**:\n",
        "    - The function iteratively applies the Newton-Raphson formula $$ x_{n+1} = x_n - \\frac{f(x_n)}{f'(x_n)} $$ until either the absolute value of the function value is less than the tolerance (`tol`) or the maximum number of iterations (`max_iter`) is reached.\n",
        "3. **Example Usage**:\n",
        "    - An example usage is provided for finding the square root of 2 using the `f(x) = x^2 - 2` function and its derivative `f'(x) = 2x`. The root and the number of iterations are printed.\n",
        "\n",
        "This implementation allows for finding roots of various functions using the Newton-Raphson method.\n",
        "$10^{-6}$\n"
      ],
      "metadata": {
        "id": "H0eBon0DsUmQ"
      }
    },
    {
      "cell_type": "markdown",
      "source": [
        "\n",
        "\n",
        "### **RESULTS AND ANALYSIS**\n",
        "\n",
        "The output of the Python program was:\n",
        "\n",
        "- **Root:** $1.4142135623746899$\n",
        "- **Number of iterations:** $3$\n",
        "\n",
        "**Efficiency:** The method demonstrated efficiency by converging to the root in a small number of iterations. This suggests that the Newton-Raphson method can quickly find solutions to equations, making it suitable for real-time or iterative calculations.\n",
        "\n",
        "**Accuracy:** The accuracy of the solution depends on factors such as the initial guess, the behavior of the function near the root, and the numerical precision of the calculations. In this case, the obtained root appears to be accurate, but further analysis may be needed to assess its precision under different conditions.\n",
        "\n",
        "**Convergence:** The method exhibited convergence, as evidenced by the decreasing number of iterations required to reach the root. Convergence indicates that the method is approaching the true solution with each iteration, which is a desirable property for numerical algorithms.\n",
        "\n",
        "**Challenges:** While the Newton-Raphson method is generally robust and efficient, challenges may arise in certain scenarios. For example, the method may fail to converge if the initial guess is far from the true root or if the function has complex behavior near the root, such as oscillations or singularities. Additionally, issues related to numerical stability or precision may affect the accuracy of the solution.\n",
        "\n",
        "Overall, the Newton-Raphson method appears to be effective in this scenario, but further testing and analysis may be necessary to assess its performance comprehensively.\n",
        "\n",
        "### **CONCLUSION**\n",
        "\n",
        "\n",
        "In conclusion, the Newton-Raphson method proved to be an efficient and effective numerical technique for finding roots of equations. The method demonstrated rapid convergence and accuracy in finding the root of the given equation. Despite its simplicity, the Newton-Raphson method's quadratic convergence rate makes it particularly useful for problems where fast convergence is desired.\n",
        "\n",
        "The applicability of the Newton-Raphson method extends across various fields, including scientific computing, engineering, physics, finance, and optimization. It is commonly used in solving nonlinear equations, optimization problems, and numerical analysis tasks. The method's simplicity, efficiency, and robust convergence properties make it a valuable tool in both theoretical and practical contexts.\n",
        "\n",
        "However, it's important to note that the Newton-Raphson method may encounter challenges such as divergence, sensitivity to initial guesses, and difficulties with functions exhibiting complex behavior or singularities. Careful consideration of these factors and appropriate adjustments to the implementation can help mitigate potential issues and enhance the method's applicability.\n",
        "\n",
        "Overall, the Newton-Raphson method remains a fundamental and widely used technique in numerical analysis, offering a balance of efficiency, accuracy, and simplicity that makes it invaluable for solving a variety of mathematical problems across different disciplines.\n",
        "\n",
        "### REFERENCES\n",
        "\n",
        "\n",
        "\n",
        "1. Burden, R. L., & Faires, J. D. (2010). *Numerical Analysis (9th ed.).* Brooks/Cole.\n",
        "2. Quarteroni, A., Sacco, R., & Saleri, F. (2007). *Numerical Mathematics (2nd ed.).* Springer.\n",
        "3. Stoer, J., & Bulirsch, R. (2002). *Introduction to Numerical Analysis (3rd ed.).* Springer.\n",
        "\n",
        "These references were consulted for theoretical concepts, numerical methods, and implementation techniques related to the Newton-Raphson method and numerical analysis in general.\n"
      ],
      "metadata": {
        "id": "yNRb9lB6vEEz"
      }
    }
  ]
}